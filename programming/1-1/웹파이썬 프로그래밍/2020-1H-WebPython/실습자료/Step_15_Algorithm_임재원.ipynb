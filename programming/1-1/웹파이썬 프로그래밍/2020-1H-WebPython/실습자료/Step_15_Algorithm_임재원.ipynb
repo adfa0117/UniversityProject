{
 "cells": [
  {
   "cell_type": "code",
   "execution_count": 11,
   "metadata": {},
   "outputs": [],
   "source": [
    "#find_remove_find\n",
    "def find_two_smallest_1(List):\n",
    "    min1 = min(List)\n",
    "    min1Index = List.index(min1)\n",
    "    List.remove(min1)\n",
    "    min2 = min(List)\n",
    "    min2Index = List.index(min2)\n",
    "    List.insert(min1Index, min1)\n",
    "    \n",
    "    if min1Index <= min2Index:\n",
    "        min2Index += 1\n",
    "        \n",
    "    return (min1Index, min2Index)"
   ]
  },
  {
   "cell_type": "code",
   "execution_count": 12,
   "metadata": {},
   "outputs": [],
   "source": [
    "#sort_identifyminimums_getindices\n",
    "def find_two_smallest_2(List):\n",
    "    listSort = sorted(List)\n",
    "    min1 = List.index(listSort[0])\n",
    "    min2 = List.index(listSort[1])\n",
    "    return (min1, min2)"
   ]
  },
  {
   "cell_type": "code",
   "execution_count": 13,
   "metadata": {},
   "outputs": [],
   "source": [
    "#work_through_the_list\n",
    "def find_two_smallest_3(List):\n",
    "    if List[0] < List[1]:\n",
    "        min1, min2 = 0, 1\n",
    "    else:\n",
    "        min1, min2 = 1, 0\n",
    "    \n",
    "    for i in range(2, len(List)):\n",
    "        if List[i] < List[min1]:\n",
    "            min2 = min1\n",
    "            min1 = i\n",
    "        elif List[i] < List[min2]:\n",
    "            min2 = i\n",
    "    \n",
    "    return (min1, min2)"
   ]
  },
  {
   "cell_type": "code",
   "execution_count": 14,
   "metadata": {},
   "outputs": [
    {
     "name": "stdout",
     "output_type": "stream",
     "text": [
      "(6, 7)\n",
      "(0, 1)\n",
      "(1, 0)\n",
      "(4, 3)\n",
      "(2, 4)\n",
      "(6, 7)\n",
      "(0, 1)\n",
      "(1, 0)\n",
      "(4, 3)\n",
      "(2, 4)\n",
      "(6, 7)\n",
      "(0, 1)\n",
      "(1, 0)\n",
      "(4, 3)\n",
      "(2, 4)\n"
     ]
    }
   ],
   "source": [
    "counts = [809, 834, 477, 478, 307, 122, 96, 102, 324, 476]\n",
    "a = [1, 2, 3, 4, 5]\n",
    "b = [2, 1, 3, 4, 5]\n",
    "c = [5, 4, 3, 2, 1]\n",
    "d = [5, 4, 1, 3, 2]\n",
    "\n",
    "print(find_two_smallest_1(counts))\n",
    "print(find_two_smallest_1(a))\n",
    "print(find_two_smallest_1(b))\n",
    "print(find_two_smallest_1(c))\n",
    "print(find_two_smallest_1(d))\n",
    "\n",
    "print(find_two_smallest_2(counts))\n",
    "print(find_two_smallest_2(a))\n",
    "print(find_two_smallest_2(b))\n",
    "print(find_two_smallest_2(c))\n",
    "print(find_two_smallest_2(d))\n",
    "\n",
    "print(find_two_smallest_3(counts))\n",
    "print(find_two_smallest_3(a))\n",
    "print(find_two_smallest_3(b))\n",
    "print(find_two_smallest_3(c))\n",
    "print(find_two_smallest_3(d))"
   ]
  },
  {
   "cell_type": "code",
   "execution_count": 15,
   "metadata": {},
   "outputs": [],
   "source": [
    "import time\n",
    "\n",
    "def time_find_two_smallest(find_fuc, lst):\n",
    "    t1 = time.perf_counter()\n",
    "    find_fuc(lst)\n",
    "    t2 = time.perf_counter()\n",
    "    return (t2 - t1) * 1000"
   ]
  },
  {
   "cell_type": "code",
   "execution_count": 19,
   "metadata": {},
   "outputs": [
    {
     "name": "stdout",
     "output_type": "stream",
     "text": [
      "0.11470000004010217\n",
      "0.17410000003792447\n",
      "0.3144000000361302\n"
     ]
    }
   ],
   "source": [
    "L = []\n",
    "\n",
    "with open('sea_levels.txt') as f:\n",
    "    for line in f:\n",
    "        L.append(float(line.strip()))\n",
    "\n",
    "time1 = time_find_two_smallest(find_two_smallest_1, L)\n",
    "time2 = time_find_two_smallest(find_two_smallest_2, L)\n",
    "time3 = time_find_two_smallest(find_two_smallest_3, L)\n",
    "\n",
    "print(time1)\n",
    "print(time2)\n",
    "print(time3)"
   ]
  }
 ],
 "metadata": {
  "kernelspec": {
   "display_name": "Python 3",
   "language": "python",
   "name": "python3"
  },
  "language_info": {
   "codemirror_mode": {
    "name": "ipython",
    "version": 3
   },
   "file_extension": ".py",
   "mimetype": "text/x-python",
   "name": "python",
   "nbconvert_exporter": "python",
   "pygments_lexer": "ipython3",
   "version": "3.7.6"
  }
 },
 "nbformat": 4,
 "nbformat_minor": 4
}
