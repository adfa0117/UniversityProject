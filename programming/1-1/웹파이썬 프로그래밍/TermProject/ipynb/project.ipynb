{
 "cells": [
  {
   "cell_type": "markdown",
   "metadata": {},
   "source": [
    "**0) 주제 : 마인크래프트와 Python을 연동해서 마인크래프트에서 이미지 출력**<br>\n",
    "\n",
    "1) 프로젝트 목표 및 내용 : 인터넷에 있는 이미지를 마인크래프트 내에서 출력하기 위한 프로그램 제작.\n",
    "    \n",
    "    1. 인터넷에 있는 사진을 python을 통해서 받아온다.\n",
    "     - urllib를 통해서 다운받아올 예정\n",
    "     \n",
    "    2. 사진의 사이즈를 구해서 너무 큰 경우 크기를 줄인다. \n",
    "     - Pillow패키지 내에 있는 Image클래스내의 함수 resize를 이용\n",
    "     - 시간이 추가로 된다면 자체적으로 제작해볼 생각\n",
    "     \n",
    "    3. 사진의 픽셀들의 RGB값을 구해서 그에 맞는 블럭을 찾는다.\n",
    "     - 마인크래프트 내에 있는 블럭마다의 RGB값을 계산해서 list로 제작한다 \n",
    "     - RGB값을 입력받으면 가장 유사한 색깔을 가지는 블럭을 return하는 함수를 만든다\n",
    "     - 각 픽셀에 대응하는 블럭들의 리스트를 제작한다\n",
    "     \n",
    "    4. 마인크래프트 내에서 입력받은 좌표에서부터 사진을 출력한다. \n",
    "     - 마인크래프트에서 시작 좌표와 출력방향을 입력받는다 \n",
    "     - 블럭들의 리스트를 통해서 마인크래프트내에 설치한다 "
   ]
  },
  {
   "cell_type": "markdown",
   "metadata": {},
   "source": [
    "<img src=\"picture.png\" alt=\"Drawing\" style=\"width: 200px;\"/>\n",
    "<img src=\"Minecraft.png\" alt=\"Drawing\" style=\"width: 200px;\"/>"
   ]
  },
  {
   "cell_type": "markdown",
   "metadata": {},
   "source": [
    "2) 주제 선정 이유 : <br>\n",
    "    1. url을 통해서 인터넷에서 데이터를 다운 받는 방법을 얻기 위해서 사진을 인터넷에서 다운받아 왔다.\n",
    "    2. 가능하다면 RGB값의 유사도가 아니라 블럭과 사진의 질감을 비교하는 과정을 딥러닝을 통해서 할 것이다.\n",
    "    3. 2의 과정을 위해서 이미지를 마인크래프트로 옮기는 작업을 한다.\n",
    "    "
   ]
  },
  {
   "cell_type": "code",
   "execution_count": null,
   "metadata": {},
   "outputs": [],
   "source": []
  }
 ],
 "metadata": {
  "kernelspec": {
   "display_name": "Python 3",
   "language": "python",
   "name": "python3"
  },
  "language_info": {
   "codemirror_mode": {
    "name": "ipython",
    "version": 3
   },
   "file_extension": ".py",
   "mimetype": "text/x-python",
   "name": "python",
   "nbconvert_exporter": "python",
   "pygments_lexer": "ipython3",
   "version": "3.7.6"
  }
 },
 "nbformat": 4,
 "nbformat_minor": 4
}
