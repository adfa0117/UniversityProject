{
 "cells": [
  {
   "cell_type": "markdown",
   "metadata": {},
   "source": [
    "# SWCON104 Web/Python Programming 2020-1 Midterm Assignment\n"
   ]
  },
  {
   "cell_type": "markdown",
   "metadata": {},
   "source": [
    "- File Name: StudentID_YourName.ipynb (Ex: 1234567890_홍길동.ipynb) <Br>\n",
    "- Submission Due: 2020/05/04 23:50 <br>"
   ]
  },
  {
   "cell_type": "markdown",
   "metadata": {},
   "source": [
    "Answer for Question.1"
   ]
  },
  {
   "cell_type": "code",
   "execution_count": 1,
   "metadata": {},
   "outputs": [
    {
     "name": "stdout",
     "output_type": "stream",
     "text": [
      "120\n"
     ]
    }
   ],
   "source": [
    "# Start of Answer\n",
    "def CalcFactorial(num):\n",
    "    sum = 1\n",
    "    if type(num) == type(1):\n",
    "        if num <= 0:\n",
    "            return -1\n",
    "        else:\n",
    "            for i in range(1, num+1):\n",
    "                sum*=i\n",
    "            return sum\n",
    "    else:\n",
    "        return -2\n",
    "# End of Answer\n",
    "\n",
    "# Below is Execution Example, and can be removed.\n",
    "\n",
    "print(CalcFactorial(5))"
   ]
  },
  {
   "cell_type": "markdown",
   "metadata": {},
   "source": [
    "Answer for Question.2"
   ]
  },
  {
   "cell_type": "code",
   "execution_count": 3,
   "metadata": {},
   "outputs": [
    {
     "name": "stdout",
     "output_type": "stream",
     "text": [
      "\n",
      "Menu: \n",
      "[0] scissor, \n",
      "[1] rock, \n",
      "[2] paper, \n",
      "[3] quit \n",
      "\n",
      "Select: 2\n",
      "\n",
      "Result: User [paper] vs Computer [scissor] -> Winner is Computer\n",
      "\n",
      "Menu: \n",
      "[0] scissor, \n",
      "[1] rock, \n",
      "[2] paper, \n",
      "[3] quit \n",
      "\n",
      "Select: 3\n"
     ]
    }
   ],
   "source": [
    "caseTypes = [\"scissor\", \"rock\", \"paper\"]\n",
    "\n",
    "# Start of Answer\n",
    "import random\n",
    "\n",
    "def GenerateRandomCaseForComputer():\n",
    "    return random.choice(caseTypes)\n",
    "\n",
    "def MakeDecision(valueUser, valueComputer):\n",
    "    if not (valueUser in caseTypes):\n",
    "        return -1\n",
    "    indexUser = caseTypes.index(valueUser)\n",
    "    indexComputer = caseTypes.index(valueComputer)\n",
    "    if indexUser == indexComputer:\n",
    "        return \"Tie\"\n",
    "    elif indexUser + indexComputer == 2:\n",
    "        if indexUser > indexComputer:\n",
    "            return \"Computer\"\n",
    "        elif indexUser < indexComputer:\n",
    "            return \"User\"\n",
    "    else:\n",
    "        if indexUser < indexComputer:\n",
    "            return \"Computer\"\n",
    "        elif indexUser > indexComputer:\n",
    "            return \"User\"\n",
    "# End of Answer\n",
    "\n",
    "# Below is Execution Example, and can be removed.\n",
    "\n",
    "userInput = 0\n",
    "while True:\n",
    "    userInput = int(input(\"\\nMenu: \\n[0] scissor, \\n[1] rock, \\n[2] paper, \\n[3] quit \\n\\nSelect: \"))\n",
    "    if(userInput != 3):\n",
    "        valueUser = caseTypes[userInput]\n",
    "        valueComputer = GenerateRandomCaseForComputer()\n",
    "        valueDecision = MakeDecision(valueUser, valueComputer)\n",
    "        print(\"\\nResult: User [{0}] vs Computer [{1}] -> Winner is {2}\".format(valueUser, valueComputer, valueDecision))\n",
    "    else:\n",
    "        break"
   ]
  },
  {
   "cell_type": "markdown",
   "metadata": {},
   "source": [
    "Answer for Question.3"
   ]
  },
  {
   "cell_type": "code",
   "execution_count": 18,
   "metadata": {},
   "outputs": [],
   "source": [
    "def isPrime(num, L):\n",
    "    if num%2 == 0:\n",
    "        L.append(2)\n",
    "    for i in range(3, num//2 + 1):\n",
    "        if num%i == 0:\n",
    "            L.append(i)\n",
    "    if len(L) == 0:\n",
    "        return True\n",
    "    elif len(L) > 0:\n",
    "        L.insert(0, 1)\n",
    "        L.append(num)\n",
    "        print(L)\n",
    "        return False\n",
    "    # Implement the function here\n",
    "    # If syntax error occurs, no point will be given for this function\n",
    "    # Do not change the function header"
   ]
  },
  {
   "cell_type": "code",
   "execution_count": 24,
   "metadata": {},
   "outputs": [
    {
     "name": "stdout",
     "output_type": "stream",
     "text": [
      "[1, 2, 4, 8]\n",
      "False\n"
     ]
    }
   ],
   "source": [
    "ans = isPrime(8,[])  # This cell is for your confirmation, can be removed.\n",
    "print(ans)           # If correctly implemented, [1,2,4,8] is printed first, and False is printed at the next line."
   ]
  },
  {
   "cell_type": "markdown",
   "metadata": {},
   "source": [
    "Answer for Question.4"
   ]
  },
  {
   "cell_type": "code",
   "execution_count": 27,
   "metadata": {},
   "outputs": [],
   "source": [
    "def getResult(status):\n",
    "    if \"_\" in status:\n",
    "        return \"You Lose\"\n",
    "    else:\n",
    "        return \"You Win\"\n",
    "    # Implement the function here.\n",
    "    # If syntax error occurs, no point will be given for this function\n",
    "    # Do not change the function header"
   ]
  },
  {
   "cell_type": "code",
   "execution_count": 32,
   "metadata": {},
   "outputs": [],
   "source": [
    "def updateStatus(word, x, status):\n",
    "    begin = 0\n",
    "    for i in range(0, word.count(x)):\n",
    "        begin = word.find(x, begin) + 1\n",
    "        status = status[:begin-1] + x + status[begin:]\n",
    "    \n",
    "    return status\n",
    "    # Implement the function here.\n",
    "    # If syntax error occurs, no point will be given for this function\n",
    "    # Do not change the function header\n",
    "    # Hint: use str.count() and str.find(). Not mendatory."
   ]
  },
  {
   "cell_type": "code",
   "execution_count": 38,
   "metadata": {},
   "outputs": [],
   "source": [
    "def startGame(word):\n",
    "    count = len(word)\n",
    "    status = \"_\"*count\n",
    "    print(status)\n",
    "    for i in range(count, 0, -1):\n",
    "        x = input(\"{0} chances. Enter letter: \".format(i))\n",
    "        status = updateStatus(word, x, status)\n",
    "        print(status)\n",
    "        if word == status:\n",
    "            break\n",
    "    return getResult(status)\n",
    "    # Implement the function here.\n",
    "    # If syntax error occurs, no point will be given for this function\n",
    "    # Do not change the function header\n",
    "    # Hint: use input() inside while-loop."
   ]
  },
  {
   "cell_type": "code",
   "execution_count": 40,
   "metadata": {},
   "outputs": [
    {
     "name": "stdout",
     "output_type": "stream",
     "text": [
      "____________\n",
      "12 chances. Enter letter: A\n",
      "________A___\n",
      "11 chances. Enter letter: H\n",
      "H_______A___\n",
      "10 chances. Enter letter: Y\n",
      "H_______A___\n",
      "9 chances. Enter letter: I\n",
      "HI______A___\n",
      "8 chances. Enter letter: P\n",
      "HIPP_P__A___\n",
      "7 chances. Enter letter: O\n",
      "HIPPOPO_A___\n",
      "6 chances. Enter letter: M\n",
      "HIPPOPO_AM__\n",
      "5 chances. Enter letter: U\n",
      "HIPPOPO_AMU_\n",
      "4 chances. Enter letter: S\n",
      "HIPPOPO_AMUS\n",
      "3 chances. Enter letter: T\n",
      "HIPPOPOTAMUS\n",
      "You Win\n"
     ]
    }
   ],
   "source": [
    "word = 'HIPPOPOTAMUS'    # This cell is for your confirmation, can be removed.\n",
    "result = startGame(word) # If correctly implemented, the result should be \n",
    "print(result)            # as the program execution example figure in your question sheet."
   ]
  },
  {
   "cell_type": "code",
   "execution_count": null,
   "metadata": {},
   "outputs": [],
   "source": []
  },
  {
   "cell_type": "code",
   "execution_count": null,
   "metadata": {},
   "outputs": [],
   "source": []
  }
 ],
 "metadata": {
  "kernelspec": {
   "display_name": "Python 3",
   "language": "python",
   "name": "python3"
  },
  "language_info": {
   "codemirror_mode": {
    "name": "ipython",
    "version": 3
   },
   "file_extension": ".py",
   "mimetype": "text/x-python",
   "name": "python",
   "nbconvert_exporter": "python",
   "pygments_lexer": "ipython3",
   "version": "3.7.6"
  }
 },
 "nbformat": 4,
 "nbformat_minor": 2
}
